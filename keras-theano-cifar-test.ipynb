{
 "cells": [
  {
   "cell_type": "code",
   "execution_count": 1,
   "metadata": {},
   "outputs": [
    {
     "name": "stderr",
     "output_type": "stream",
     "text": [
      "Using Theano backend.\n",
      "Using cuDNN version 5110 on context None\n",
      "Mapped name None to device cuda0: Tesla P100-SXM2-16GB (0002:01:00.0)\n"
     ]
    }
   ],
   "source": [
    "# Plot ad hoc CIFAR10 instances\n",
    "from keras.datasets import cifar10\n",
    "from matplotlib import pyplot\n",
    "from scipy.misc import toimage\n",
    "# load data\n",
    "(X_train, y_train), (X_test, y_test) = cifar10.load_data()\n"
   ]
  },
  {
   "cell_type": "code",
   "execution_count": null,
   "metadata": {
    "collapsed": true
   },
   "outputs": [],
   "source": [
    "# create a grid of 3x3 images\n",
    "for i in range(0, 9):\n",
    "    pyplot.subplot(330 + 1 + i)\n",
    "    pyplot.imshow(toimage(X_train[i]))\n",
    "# show the plot\n",
    "pyplot.show()"
   ]
  },
  {
   "cell_type": "code",
   "execution_count": 3,
   "metadata": {
    "collapsed": true
   },
   "outputs": [],
   "source": [
    "# Simple CNN model for CIFAR-10\n",
    "import numpy\n",
    "from keras.datasets import cifar10\n",
    "from keras.models import Sequential\n",
    "from keras.layers import Dense\n",
    "from keras.layers import Dropout\n",
    "from keras.layers import Flatten\n",
    "from keras.constraints import maxnorm\n",
    "from keras.optimizers import SGD\n",
    "from keras.layers.convolutional import Conv2D\n",
    "from keras.layers.convolutional import MaxPooling2D\n",
    "from keras.utils import np_utils\n",
    "from keras import backend as K\n",
    "K.set_image_dim_ordering('th')\n",
    " \n",
    "# fix random seed for reproducibility\n",
    "seed = 7\n",
    "numpy.random.seed(seed)"
   ]
  },
  {
   "cell_type": "code",
   "execution_count": 4,
   "metadata": {
    "collapsed": true
   },
   "outputs": [],
   "source": [
    "# Next we can load the CIFAR-10 dataset.\n",
    "# load data\n",
    "(X_train, y_train), (X_test, y_test) = cifar10.load_data()\n"
   ]
  },
  {
   "cell_type": "code",
   "execution_count": 5,
   "metadata": {
    "collapsed": true
   },
   "outputs": [],
   "source": [
    "# normalize inputs from 0-255 to 0.0-1.0\n",
    "X_train = X_train.astype('float32')\n",
    "X_test = X_test.astype('float32')\n",
    "X_train = X_train / 255.0\n",
    "X_test = X_test / 255.0"
   ]
  },
  {
   "cell_type": "code",
   "execution_count": 6,
   "metadata": {
    "collapsed": true
   },
   "outputs": [],
   "source": [
    "# one hot encode outputs\n",
    "y_train = np_utils.to_categorical(y_train)\n",
    "y_test = np_utils.to_categorical(y_test)\n",
    "num_classes = y_test.shape[1]"
   ]
  },
  {
   "cell_type": "code",
   "execution_count": 7,
   "metadata": {
    "collapsed": true
   },
   "outputs": [],
   "source": [
    "# Create the model\n",
    "model = Sequential()\n",
    "model.add(Conv2D(32, (3, 3), input_shape=(3, 32, 32), padding='same', activation='relu', kernel_constraint=maxnorm(3)))\n",
    "model.add(Dropout(0.2))\n",
    "model.add(Conv2D(32, (3, 3), activation='relu', padding='same', kernel_constraint=maxnorm(3)))\n",
    "model.add(MaxPooling2D(pool_size=(2, 2)))\n",
    "model.add(Flatten())\n",
    "model.add(Dense(512, activation='relu', kernel_constraint=maxnorm(3)))\n",
    "model.add(Dropout(0.5))\n",
    "model.add(Dense(num_classes, activation='softmax'))\n",
    "# Compile model\n",
    "epochs = 25\n",
    "lrate = 0.01\n",
    "decay = lrate/epochs\n",
    "sgd = SGD(lr=lrate, momentum=0.9, decay=decay, nesterov=False)"
   ]
  },
  {
   "cell_type": "code",
   "execution_count": 8,
   "metadata": {
    "collapsed": true
   },
   "outputs": [],
   "source": [
    "model.compile(loss='categorical_crossentropy', optimizer=sgd, metrics=['accuracy'])"
   ]
  },
  {
   "cell_type": "code",
   "execution_count": 9,
   "metadata": {},
   "outputs": [
    {
     "name": "stdout",
     "output_type": "stream",
     "text": [
      "_________________________________________________________________\n",
      "Layer (type)                 Output Shape              Param #   \n",
      "=================================================================\n",
      "conv2d_1 (Conv2D)            (None, 32, 32, 32)        896       \n",
      "_________________________________________________________________\n",
      "dropout_1 (Dropout)          (None, 32, 32, 32)        0         \n",
      "_________________________________________________________________\n",
      "conv2d_2 (Conv2D)            (None, 32, 32, 32)        9248      \n",
      "_________________________________________________________________\n",
      "max_pooling2d_1 (MaxPooling2 (None, 32, 16, 16)        0         \n",
      "_________________________________________________________________\n",
      "flatten_1 (Flatten)          (None, 8192)              0         \n",
      "_________________________________________________________________\n",
      "dense_1 (Dense)              (None, 512)               4194816   \n",
      "_________________________________________________________________\n",
      "dropout_2 (Dropout)          (None, 512)               0         \n",
      "_________________________________________________________________\n",
      "dense_2 (Dense)              (None, 10)                5130      \n",
      "=================================================================\n",
      "Total params: 4,210,090\n",
      "Trainable params: 4,210,090\n",
      "Non-trainable params: 0\n",
      "_________________________________________________________________\n",
      "None\n"
     ]
    }
   ],
   "source": [
    "print(model.summary())"
   ]
  },
  {
   "cell_type": "code",
   "execution_count": 10,
   "metadata": {
    "scrolled": true
   },
   "outputs": [
    {
     "name": "stdout",
     "output_type": "stream",
     "text": [
      "Train on 50000 samples, validate on 10000 samples\n",
      "Epoch 1/25\n",
      "50000/50000 [==============================] - 14s - loss: 1.7265 - acc: 0.3756 - val_loss: 1.3907 - val_acc: 0.5029\n",
      "Epoch 2/25\n",
      "50000/50000 [==============================] - 13s - loss: 1.3724 - acc: 0.5067 - val_loss: 1.2172 - val_acc: 0.5636\n",
      "Epoch 3/25\n",
      "50000/50000 [==============================] - 13s - loss: 1.1999 - acc: 0.5716 - val_loss: 1.1461 - val_acc: 0.5863\n",
      "Epoch 4/25\n",
      "50000/50000 [==============================] - 13s - loss: 1.0857 - acc: 0.6130 - val_loss: 1.0649 - val_acc: 0.6208\n",
      "Epoch 5/25\n",
      "50000/50000 [==============================] - 13s - loss: 0.9989 - acc: 0.6442 - val_loss: 1.0250 - val_acc: 0.6380\n",
      "Epoch 6/25\n",
      "50000/50000 [==============================] - 13s - loss: 0.9212 - acc: 0.6743 - val_loss: 1.0309 - val_acc: 0.6370\n",
      "Epoch 7/25\n",
      "50000/50000 [==============================] - 13s - loss: 0.8530 - acc: 0.6976 - val_loss: 0.9650 - val_acc: 0.6624\n",
      "Epoch 8/25\n",
      "50000/50000 [==============================] - 13s - loss: 0.7928 - acc: 0.7186 - val_loss: 0.9452 - val_acc: 0.6712\n",
      "Epoch 9/25\n",
      "50000/50000 [==============================] - 10s - loss: 0.7372 - acc: 0.7399 - val_loss: 0.9451 - val_acc: 0.6729\n",
      "Epoch 10/25\n",
      "50000/50000 [==============================] - 10s - loss: 0.6884 - acc: 0.7571 - val_loss: 0.9277 - val_acc: 0.6794\n",
      "Epoch 11/25\n",
      "50000/50000 [==============================] - 10s - loss: 0.6447 - acc: 0.7714 - val_loss: 0.9448 - val_acc: 0.6836\n",
      "Epoch 12/25\n",
      "50000/50000 [==============================] - 10s - loss: 0.6047 - acc: 0.7858 - val_loss: 0.9391 - val_acc: 0.6814\n",
      "Epoch 13/25\n",
      "50000/50000 [==============================] - 10s - loss: 0.5586 - acc: 0.8011 - val_loss: 0.9576 - val_acc: 0.6827\n",
      "Epoch 14/25\n",
      "50000/50000 [==============================] - 10s - loss: 0.5243 - acc: 0.8119 - val_loss: 0.9667 - val_acc: 0.6823\n",
      "Epoch 15/25\n",
      "50000/50000 [==============================] - 10s - loss: 0.4865 - acc: 0.8267 - val_loss: 0.9685 - val_acc: 0.6883\n",
      "Epoch 16/25\n",
      "50000/50000 [==============================] - 10s - loss: 0.4655 - acc: 0.8344 - val_loss: 0.9695 - val_acc: 0.6904\n",
      "Epoch 17/25\n",
      "50000/50000 [==============================] - 10s - loss: 0.4449 - acc: 0.8420 - val_loss: 0.9558 - val_acc: 0.6930\n",
      "Epoch 18/25\n",
      "50000/50000 [==============================] - 10s - loss: 0.4140 - acc: 0.8530 - val_loss: 0.9756 - val_acc: 0.6919\n",
      "Epoch 19/25\n",
      "50000/50000 [==============================] - 10s - loss: 0.3914 - acc: 0.8619 - val_loss: 0.9964 - val_acc: 0.6935\n",
      "Epoch 20/25\n",
      "50000/50000 [==============================] - 10s - loss: 0.3738 - acc: 0.8675 - val_loss: 1.0164 - val_acc: 0.6933\n",
      "Epoch 21/25\n",
      "50000/50000 [==============================] - 10s - loss: 0.3542 - acc: 0.8761 - val_loss: 1.0149 - val_acc: 0.6967\n",
      "Epoch 22/25\n",
      "50000/50000 [==============================] - 10s - loss: 0.3385 - acc: 0.8809 - val_loss: 1.0098 - val_acc: 0.6960\n",
      "Epoch 23/25\n",
      "50000/50000 [==============================] - 10s - loss: 0.3219 - acc: 0.8869 - val_loss: 1.0476 - val_acc: 0.6934\n",
      "Epoch 24/25\n",
      "50000/50000 [==============================] - 10s - loss: 0.3064 - acc: 0.8919 - val_loss: 1.0366 - val_acc: 0.6960\n",
      "Epoch 25/25\n",
      "50000/50000 [==============================] - 10s - loss: 0.2930 - acc: 0.8976 - val_loss: 1.0548 - val_acc: 0.6980\n",
      "Accuracy: 69.80%\n"
     ]
    }
   ],
   "source": [
    "# Fit the model\n",
    "model.fit(X_train, y_train, validation_data=(X_test, y_test), epochs=epochs, batch_size=32)\n",
    "# Final evaluation of the model\n",
    "scores = model.evaluate(X_test, y_test, verbose=0)\n",
    "print(\"Accuracy: %.2f%%\" % (scores[1]*100))"
   ]
  },
  {
   "cell_type": "code",
   "execution_count": null,
   "metadata": {
    "collapsed": true
   },
   "outputs": [],
   "source": []
  }
 ],
 "metadata": {
  "kernelspec": {
   "display_name": "Python 3",
   "language": "python",
   "name": "python3"
  },
  "language_info": {
   "codemirror_mode": {
    "name": "ipython",
    "version": 3
   },
   "file_extension": ".py",
   "mimetype": "text/x-python",
   "name": "python",
   "nbconvert_exporter": "python",
   "pygments_lexer": "ipython3",
   "version": "3.6.1"
  }
 },
 "nbformat": 4,
 "nbformat_minor": 2
}
