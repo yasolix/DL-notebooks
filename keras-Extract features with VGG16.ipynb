{
 "cells": [
  {
   "cell_type": "code",
   "execution_count": 1,
   "metadata": {},
   "outputs": [
    {
     "name": "stderr",
     "output_type": "stream",
     "text": [
      "Using Theano backend.\n",
      "Using cuDNN version 5110 on context None\n",
      "Mapped name None to device cuda0: Tesla P100-SXM2-16GB (0002:01:00.0)\n"
     ]
    }
   ],
   "source": [
    "from keras.applications.vgg16 import VGG16\n",
    "from keras.preprocessing import image\n",
    "from keras.applications.vgg16 import preprocess_input\n",
    "import numpy as np\n",
    "\n",
    "model = VGG16(weights='imagenet', include_top=False)\n",
    "\n",
    "img_path = 'shark.jpg'\n",
    "img = image.load_img(img_path, target_size=(224, 224))\n",
    "x = image.img_to_array(img)\n",
    "x = np.expand_dims(x, axis=0)\n",
    "x = preprocess_input(x)\n",
    "\n",
    "features = model.predict(x)"
   ]
  },
  {
   "cell_type": "code",
   "execution_count": 2,
   "metadata": {},
   "outputs": [
    {
     "data": {
      "text/plain": [
       "array([[[[  0.        ,   0.        ,   0.        , ...,   0.        ,\n",
       "            0.18042225,   0.        ],\n",
       "         [  0.        ,   0.        ,   0.        , ...,   0.        ,\n",
       "            1.42178369,   0.16564015],\n",
       "         [  0.        ,   0.        ,   0.        , ...,   7.62090445,\n",
       "           10.15085411,   0.        ],\n",
       "         ..., \n",
       "         [  0.        ,   0.        ,   0.        , ...,   0.        ,\n",
       "            0.        ,   0.        ],\n",
       "         [  2.01344562,   0.        ,   0.        , ...,   0.        ,\n",
       "            0.66257435,   0.        ],\n",
       "         [  0.        ,   0.        ,   0.        , ...,   0.        ,\n",
       "            6.9356246 ,   0.        ]],\n",
       "\n",
       "        [[  0.        ,   0.        ,   0.        , ...,   0.        ,\n",
       "            0.        ,   0.        ],\n",
       "         [  0.        ,   2.85480762,  28.92885399, ...,  45.04184723,\n",
       "            1.05200529,   0.        ],\n",
       "         [  0.        ,  10.27374935,  35.74000549, ...,  48.86240005,\n",
       "           19.7725029 ,   0.        ],\n",
       "         ..., \n",
       "         [  0.        ,   0.        ,   0.        , ...,   0.        ,\n",
       "           16.87529373,   0.        ],\n",
       "         [  0.        ,   0.        ,   0.        , ...,   0.        ,\n",
       "            1.00776148,   0.        ],\n",
       "         [  0.        ,   0.        ,   0.        , ...,   0.        ,\n",
       "            7.11315441,   0.        ]],\n",
       "\n",
       "        [[  0.        ,   3.44040084,   0.        , ...,  17.96427536,\n",
       "            0.        ,   0.        ],\n",
       "         [  0.        ,  19.80541801,  43.70972061, ...,  54.92807388,\n",
       "            0.        ,   0.        ],\n",
       "         [  0.        ,  17.61768341,  71.67106628, ...,  47.66075897,\n",
       "            0.        ,   0.        ],\n",
       "         ..., \n",
       "         [  0.        ,   0.        ,  16.53341103, ...,   5.83905697,\n",
       "            0.        ,   0.        ],\n",
       "         [  0.        ,   0.        ,   4.9386735 , ...,   4.21052265,\n",
       "            0.        ,   0.        ],\n",
       "         [  3.7251277 ,   0.        ,   0.        , ...,   0.        ,\n",
       "            1.12794316,   0.        ]],\n",
       "\n",
       "        ..., \n",
       "        [[ 10.51297283,   3.76589751,   0.        , ...,   0.        ,\n",
       "           11.15990353,   0.        ],\n",
       "         [ 12.37857342,   6.91431952,   0.        , ...,  10.81840897,\n",
       "            0.        ,   0.        ],\n",
       "         [  0.        ,   0.        ,   0.        , ...,  25.29014015,\n",
       "            0.        ,   0.        ],\n",
       "         ..., \n",
       "         [  0.        ,   0.        ,   0.        , ...,   0.        ,\n",
       "            0.        ,   0.        ],\n",
       "         [  0.        ,   0.        ,   0.        , ...,   0.        ,\n",
       "            0.        ,   0.        ],\n",
       "         [  0.        ,   1.62307525,   0.        , ...,   0.        ,\n",
       "            0.88200337,   0.        ]],\n",
       "\n",
       "        [[  6.76775265,   0.        ,   0.        , ...,   0.        ,\n",
       "            8.7015276 ,   0.        ],\n",
       "         [  0.52311921,   0.        ,   0.        , ...,   0.        ,\n",
       "            0.        ,   0.        ],\n",
       "         [  0.        ,   0.        ,   0.        , ...,   0.        ,\n",
       "            2.84189081,   0.        ],\n",
       "         ..., \n",
       "         [  0.        ,   0.        ,   0.        , ...,   0.        ,\n",
       "            0.        ,   0.        ],\n",
       "         [  0.        ,   0.        ,   0.        , ...,   0.        ,\n",
       "            0.        ,   0.        ],\n",
       "         [  0.        ,   0.        ,   0.        , ...,   0.        ,\n",
       "           10.33452797,   0.        ]],\n",
       "\n",
       "        [[  7.14317131,   0.        ,   0.        , ...,   0.        ,\n",
       "            3.61572099,   0.        ],\n",
       "         [  0.        ,   0.        ,   0.        , ...,   0.        ,\n",
       "            1.07743263,   0.        ],\n",
       "         [  0.        ,   0.        ,   0.        , ...,   0.        ,\n",
       "            0.        ,   0.        ],\n",
       "         ..., \n",
       "         [  0.        ,   0.        ,   0.        , ...,   0.        ,\n",
       "            0.        ,   0.        ],\n",
       "         [  0.        ,   0.        ,   0.        , ...,   0.        ,\n",
       "            0.        ,   0.        ],\n",
       "         [  0.        ,   0.        ,   0.        , ...,   0.        ,\n",
       "            1.91802955,   0.        ]]]], dtype=float32)"
      ]
     },
     "execution_count": 2,
     "metadata": {},
     "output_type": "execute_result"
    }
   ],
   "source": [
    "features"
   ]
  },
  {
   "cell_type": "code",
   "execution_count": null,
   "metadata": {
    "collapsed": true
   },
   "outputs": [],
   "source": []
  }
 ],
 "metadata": {
  "kernelspec": {
   "display_name": "Python 3",
   "language": "python",
   "name": "python3"
  },
  "language_info": {
   "codemirror_mode": {
    "name": "ipython",
    "version": 3
   },
   "file_extension": ".py",
   "mimetype": "text/x-python",
   "name": "python",
   "nbconvert_exporter": "python",
   "pygments_lexer": "ipython3",
   "version": "3.6.1"
  }
 },
 "nbformat": 4,
 "nbformat_minor": 2
}
